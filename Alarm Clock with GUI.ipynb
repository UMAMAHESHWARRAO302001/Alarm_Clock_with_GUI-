{
 "cells": [
  {
   "cell_type": "code",
   "execution_count": 2,
   "id": "f5452727",
   "metadata": {},
   "outputs": [],
   "source": [
    "import tkinter as tk\n",
    "import datetime\n",
    "import time\n",
    "import winsound"
   ]
  },
  {
   "cell_type": "code",
   "execution_count": 3,
   "id": "1817f910",
   "metadata": {},
   "outputs": [],
   "source": [
    "def set_alarm():\n",
    "    alarm_time = entry.get()\n",
    "    try:\n",
    "        alarm_hour, alarm_minute = map(int, alarm_time.split(':'))\n",
    "        now = datetime.datetime.now()\n",
    "        alarm_datetime = datetime.datetime.combine(now.date(), datetime.time(alarm_hour, alarm_minute))\n",
    "        time_diff = alarm_datetime - now\n",
    "\n",
    "        if time_diff.total_seconds() <= 0:\n",
    "            raise ValueError(\"Invalid time. Please enter a future time.\")\n",
    "\n",
    "        time.sleep(time_diff.total_seconds())\n",
    "\n",
    "        # Play sound when the alarm goes off\n",
    "        frequency = 2500  # Set frequency (Hz)\n",
    "        duration = 5000  # Set duration (ms)\n",
    "        winsound.Beep(frequency, duration)\n",
    "\n",
    "        label.config(text=\"Alarm triggered at \" + alarm_time)\n",
    "        entry.delete(0, tk.END)\n",
    "\n",
    "    except ValueError as msg:\n",
    "        label.config(text=str(msg))"
   ]
  },
  {
   "cell_type": "code",
   "execution_count": 4,
   "id": "e00eab49",
   "metadata": {},
   "outputs": [
    {
     "data": {
      "text/plain": [
       "''"
      ]
     },
     "execution_count": 4,
     "metadata": {},
     "output_type": "execute_result"
    }
   ],
   "source": [
    "# Create a GUI window\n",
    "window = tk.Tk()\n",
    "window.title(\"Alarm Clock\")"
   ]
  },
  {
   "cell_type": "code",
   "execution_count": 5,
   "id": "b7418a6a",
   "metadata": {},
   "outputs": [],
   "source": [
    "# Create label and entry widgets\n",
    "label = tk.Label(window, text=\"Enter alarm time (HH:MM):\")\n",
    "label.pack()\n",
    "entry = tk.Entry(window)\n",
    "entry.pack()"
   ]
  },
  {
   "cell_type": "code",
   "execution_count": 6,
   "id": "1fb59a69",
   "metadata": {},
   "outputs": [],
   "source": [
    "# Create set alarm button\n",
    "button = tk.Button(window, text=\"Set Alarm\", command=set_alarm)\n",
    "button.pack()"
   ]
  },
  {
   "cell_type": "code",
   "execution_count": null,
   "id": "07aeeba3",
   "metadata": {},
   "outputs": [],
   "source": [
    "# Start the main event loop\n",
    "window.mainloop()"
   ]
  },
  {
   "cell_type": "code",
   "execution_count": null,
   "id": "b70d58ca",
   "metadata": {},
   "outputs": [],
   "source": []
  }
 ],
 "metadata": {
  "kernelspec": {
   "display_name": "Python 3 (ipykernel)",
   "language": "python",
   "name": "python3"
  },
  "language_info": {
   "codemirror_mode": {
    "name": "ipython",
    "version": 3
   },
   "file_extension": ".py",
   "mimetype": "text/x-python",
   "name": "python",
   "nbconvert_exporter": "python",
   "pygments_lexer": "ipython3",
   "version": "3.9.7"
  }
 },
 "nbformat": 4,
 "nbformat_minor": 5
}
